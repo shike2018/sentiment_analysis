{
 "cells": [
  {
   "cell_type": "code",
   "execution_count": 18,
   "metadata": {},
   "outputs": [],
   "source": [
    "import numpy as np\n",
    "import pandas as pd\n",
    "import seaborn as sb\n",
    "import io\n",
    "import requests\n",
    "import datetime\n",
    "import ondemand\n",
    "from scipy.stats import pearsonr\n",
    "from pandas.io.common import EmptyDataError\n",
    "from requests.exceptions import HTTPError\n",
    "import time\n",
    "import os\n",
    "import json\n",
    "pd.set_option('display.max_columns', None)\n",
    "pd.set_option('display.max_rows', None)"
   ]
  },
  {
   "cell_type": "code",
   "execution_count": 19,
   "metadata": {},
   "outputs": [],
   "source": [
    "#get business days\n",
    "from pandas.tseries.offsets import *\n",
    "daterange1 = pd.date_range('2017-12-01', '2019-01-20', freq=BDay())\n",
    "daterange1 = list(daterange1.strftime('%Y-%m-%d'))\n",
    "holidays = ['2017-12-25', '2018-01-01', '2018-01-15', '2018-02-19', '2018-03-30', '2018-05-28', '2018-07-04', '2018-09-03',\\\n",
    "            '2018-11-22', '2018-12-05', '2018-12-25', '2019-01-01']\n",
    "for each in holidays:\n",
    "    if each in daterange1:\n",
    "        daterange1.remove(each)\n",
    "\n",
    "daterange2 = daterange1[20:271]"
   ]
  },
  {
   "cell_type": "code",
   "execution_count": 20,
   "metadata": {},
   "outputs": [],
   "source": [
    "mkt_cap = ['small', 'mid', 'large']\n",
    "window = [1, 3]\n",
    "hold_days = [1, '1b', 3]\n",
    "for cap in mkt_cap:\n",
    "    for win in window:\n",
    "        detail_summary = pd.DataFrame([])\n",
    "        for date in daterange2:\n",
    "            for hold in hold_days:\n",
    "                if hold == '1b':\n",
    "                    each = date\n",
    "                    each = each[5:]\n",
    "                    each = each.replace('-', '')\n",
    "                else:\n",
    "                    trading_day = daterange1[daterange1.index(date) + 1]\n",
    "                    each = trading_day\n",
    "                    each = each[5:]\n",
    "                    each = each.replace('-', '')\n",
    "                try:\n",
    "                    temp = pd.read_csv('leaderlist {}/{}_cap/window_{}_day/hold_{}_day/{}_{}_cap_window_{}_hold_{}_detail.csv'.\\\n",
    "                                       format(date, cap, win, hold, each, cap, win, hold))\n",
    "                except FileNotFoundError:\n",
    "                    continue\n",
    "                detail_summary = pd.concat([detail_summary, temp], sort = False)\n",
    "        detail_summary.to_csv('detail_summary/combined_holding_period/{}_cap_window_{}_detail_summary.csv'\\\n",
    "                              .format(cap, win), index = False)\n",
    "        \n",
    "        "
   ]
  },
  {
   "cell_type": "code",
   "execution_count": 21,
   "metadata": {},
   "outputs": [],
   "source": [
    "#separate for holding period\n",
    "mkt_cap = ['small', 'mid', 'large']\n",
    "window = [1, 3]\n",
    "hold_days = [1, '1b', 3]\n",
    "for hold in hold_days:\n",
    "    for cap in mkt_cap:\n",
    "        for win in window:\n",
    "            detail_summary = pd.DataFrame([])\n",
    "            for date in daterange2:\n",
    "                if hold == '1b':\n",
    "                    each = date\n",
    "                    each = each[5:]\n",
    "                    each = each.replace('-', '')\n",
    "                else:\n",
    "                    trading_day = daterange1[daterange1.index(date) + 1]\n",
    "                    each = trading_day\n",
    "                    each = each[5:]\n",
    "                    each = each.replace('-', '')\n",
    "                try:\n",
    "                    temp = pd.read_csv('leaderlist {}/{}_cap/window_{}_day/hold_{}_day/{}_{}_cap_window_{}_hold_{}_detail.csv'.\\\n",
    "                                       format(date, cap, win, hold, each, cap, win, hold))\n",
    "                except FileNotFoundError:\n",
    "                    continue\n",
    "                detail_summary = pd.concat([detail_summary, temp], sort = False)\n",
    "            detail_summary.to_csv('detail_summary/hold_{}_day/{}_cap_window_{}_detail_summary.csv'.format(hold, cap, win), index = False)\n",
    "            \n",
    "            \n",
    "            \n",
    "            "
   ]
  },
  {
   "cell_type": "code",
   "execution_count": null,
   "metadata": {},
   "outputs": [],
   "source": []
  }
 ],
 "metadata": {
  "kernelspec": {
   "display_name": "Python 3",
   "language": "python",
   "name": "python3"
  },
  "language_info": {
   "codemirror_mode": {
    "name": "ipython",
    "version": 3
   },
   "file_extension": ".py",
   "mimetype": "text/x-python",
   "name": "python",
   "nbconvert_exporter": "python",
   "pygments_lexer": "ipython3",
   "version": "3.6.5"
  }
 },
 "nbformat": 4,
 "nbformat_minor": 2
}
