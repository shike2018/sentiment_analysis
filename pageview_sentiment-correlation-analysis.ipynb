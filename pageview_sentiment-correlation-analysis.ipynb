{
 "cells": [
  {
   "cell_type": "code",
   "execution_count": 305,
   "metadata": {},
   "outputs": [],
   "source": [
    "import plotly\n",
    "import plotly\n",
    "#import plotly.graph_objs as go\n",
    "import plotly.figure_factory as ff\n",
    "import os\n",
    "\n",
    "import pandas as pd\n"
   ]
  },
  {
   "cell_type": "markdown",
   "metadata": {},
   "source": [
    "#correlation analysis"
   ]
  },
  {
   "cell_type": "code",
   "execution_count": 239,
   "metadata": {},
   "outputs": [],
   "source": [
    "#load SMA's data\n",
    "sse = pd.read_csv('sample_data_SMA/sma_sentiment_equities.csv')"
   ]
  },
  {
   "cell_type": "code",
   "execution_count": 241,
   "metadata": {},
   "outputs": [],
   "source": [
    "sse['Date'] = pd.to_datetime(sse['center-date'], format = '%m/%d/%y')\n",
    "sse.rename(columns = {'ticker' : 'Symbol'}, inplace = True)\n",
    "sse = sse.iloc[ : , [18, 0, 1, 2, 3, 4, 5, 6, 7, 8, 9, 10, 11, 12, 13, 14, 15]]"
   ]
  },
  {
   "cell_type": "code",
   "execution_count": 243,
   "metadata": {},
   "outputs": [],
   "source": [
    "sma_symbols = list(set(list(sse['Symbol'])))"
   ]
  },
  {
   "cell_type": "code",
   "execution_count": 333,
   "metadata": {},
   "outputs": [
    {
     "name": "stdout",
     "output_type": "stream",
     "text": [
      "FOXA\n"
     ]
    }
   ],
   "source": [
    "final_res_corr = pd.DataFrame([])\n",
    "for i, item in enumerate(sma_symbols):\n",
    "    temp = pd.read_csv('pageview_price/pageview_price_{}.csv'.format(item))\n",
    "    temp.insert(loc = 4, column = 'Close Price Change_Forward_3day', value = temp['Close Price'].diff(3))\n",
    "    temp.insert(loc = 5, column = 'Close Price Percent Change_Forward_3day(%)', \\\n",
    "          value = (temp['Close Price'].pct_change(3)*100).round(2))\n",
    "    temp['Close Price Change_Forward_3day'] = temp['Close Price Change_Forward_3day'].shift(-3)\n",
    "    temp['Close Price Percent Change_Forward_3day(%)'] = temp['Close Price Percent Change_Forward_3day(%)'].shift(-3)\n",
    "    temp.insert(loc = 4, column = 'Close Price Change_Forward_1day', value = temp['Close Price'].diff(1))\n",
    "    temp.insert(loc = 5, column = 'Close Price Percent Change_Forward_1day(%)', \\\n",
    "          value = (temp['Close Price'].pct_change(1)*100).round(2))\n",
    "    temp['Close Price Change_Forward_1day'] = temp['Close Price Change_Forward_1day'].shift(-1)\n",
    "    temp['Close Price Percent Change_Forward_1day(%)'] = temp['Close Price Percent Change_Forward_1day(%)'].shift(-1) \n",
    "\n",
    "    temp.columns = ['Date', 'Symbol', 'PageView', 'ClosePrice', 'price_change1', 'price_percent_change1(%)', \\\n",
    "                    'price_change_3', 'price_percent_change3(%)', 'pv_change_in_std1', 'pv_change_in_std3']\n",
    "    temp1 = sse.loc[sse['Symbol'] == item].copy()\n",
    "    temp1['Date'] = temp1['Date'].apply(str).str[:10]\n",
    "    #merge pageview data with SMA's sentiment data\n",
    "    final_res = pd.merge(temp, temp1, on = ['Date', 'Symbol'])\n",
    "    final_res = final_res.dropna()\n",
    "    if not os.path.exists(os.path.dirname('corr_analysis/{}/'.format(item))):\n",
    "                    os.makedirs(os.path.dirname('corr_analysis/{}/'.format(item)))\n",
    "    #plot here\n",
    "    try:\n",
    "        fig = ff.create_scatterplotmatrix(final_res.loc[:, ['price_percent_change1(%)', 'price_percent_change3(%)',\\\n",
    "                                                            's', 's-mean']], size = 3, \\\n",
    "                                          diag = 'histogram', height = 900, width = 900)\n",
    "        plotly.offline.plot(fig, filename = 'corr_analysis/{}/scatterplot matrix for price_change(%) vs sentiment.html'.\\\n",
    "                            format(item), auto_open = False)\n",
    "\n",
    "        fig1 = ff.create_scatterplotmatrix(final_res.loc[:, ['pv_change_in_std1', 'pv_change_in_std3', \\\n",
    "                                                              'sv-score']], size = 3, \\\n",
    "                                          diag = 'histogram', height = 600, width = 600)\n",
    "        plotly.offline.plot(fig1, \\\n",
    "                            filename = 'corr_analysis/{}/scatterplot matrix for pageview_change_in_std vs sv-score.html'.\\\n",
    "                           format(item), auto_open = False)\n",
    "\n",
    "        fig2 = ff.create_scatterplotmatrix(final_res.loc[:, ['PageView', 's-volume']])\n",
    "        plotly.offline.plot(fig2, filename = 'corr_analysis/{}/scatterploe for pageview vs twitter_volume.html'.\\\n",
    "                            format(item), auto_open = False)\n",
    "    except:\n",
    "        print(item)\n",
    "        continue\n",
    "    corr_table = final_res.corr()\n",
    "    final_res_corr.loc[i, 'symbol'] = item\n",
    "    final_res_corr.loc[i, 'corr_pageview_s-volume'] = corr_table.loc['PageView', 's-volume']\n",
    "    final_res_corr.loc[i, 'corr_pv_change_in_std1_sv-score'] = corr_table.loc['pv_change_in_std1', 'sv-score']\n",
    "    final_res_corr.loc[i, 'corr_pv_change_in_std3_sv-score'] = corr_table.loc['pv_change_in_std3', 'sv-score']\n",
    "    final_res_corr.loc[i, 'corr_price_change1(%)_s'] = corr_table.loc['price_percent_change1(%)', 's']\n",
    "    final_res_corr.loc[i, 'corr_price_change3(%)_s'] = corr_table.loc['price_percent_change3(%)', 's']\n",
    "    final_res_corr.loc[i, 'corr_price_change1(%)_s-mean'] = corr_table.loc['price_percent_change1(%)', 's-mean']\n",
    "    final_res_corr.loc[i, 'corr_price_change3(%)_s-mean'] = corr_table.loc['price_percent_change3(%)', 's-mean']\n",
    "    \n",
    "#save table   \n",
    "final_res_corr.to_csv('corr_analysis/correlation_table.csv', index = False)\n",
    "\n"
   ]
  }
 ],
 "metadata": {
  "kernelspec": {
   "display_name": "Python 3",
   "language": "python",
   "name": "python3"
  },
  "language_info": {
   "codemirror_mode": {
    "name": "ipython",
    "version": 3
   },
   "file_extension": ".py",
   "mimetype": "text/x-python",
   "name": "python",
   "nbconvert_exporter": "python",
   "pygments_lexer": "ipython3",
   "version": "3.6.5"
  }
 },
 "nbformat": 4,
 "nbformat_minor": 2
}
